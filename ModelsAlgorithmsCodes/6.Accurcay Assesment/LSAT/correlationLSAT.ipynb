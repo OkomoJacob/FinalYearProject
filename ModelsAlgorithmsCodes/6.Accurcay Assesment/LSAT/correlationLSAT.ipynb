{
 "cells": [
  {
   "cell_type": "code",
   "execution_count": 489,
   "metadata": {},
   "outputs": [
    {
     "data": {
      "text/plain": [
       "<Figure size 1440x720 with 0 Axes>"
      ]
     },
     "execution_count": 489,
     "metadata": {},
     "output_type": "execute_result"
    },
    {
     "data": {
      "text/plain": [
       "<Figure size 1440x720 with 0 Axes>"
      ]
     },
     "metadata": {},
     "output_type": "display_data"
    }
   ],
   "source": [
    "from matplotlib import pyplot as plt\n",
    "from sklearn import linear_model\n",
    "from matplotlib import style\n",
    "style.use('seaborn-whitegrid')\n",
    "import pandas as pd \n",
    "import numpy as np\n",
    "plt.figure(figsize=(20, 10))"
   ]
  },
  {
   "cell_type": "code",
   "execution_count": 490,
   "metadata": {},
   "outputs": [
    {
     "data": {
      "text/html": [
       "<div>\n",
       "<style scoped>\n",
       "    .dataframe tbody tr th:only-of-type {\n",
       "        vertical-align: middle;\n",
       "    }\n",
       "\n",
       "    .dataframe tbody tr th {\n",
       "        vertical-align: top;\n",
       "    }\n",
       "\n",
       "    .dataframe thead th {\n",
       "        text-align: right;\n",
       "    }\n",
       "</style>\n",
       "<table border=\"1\" class=\"dataframe\">\n",
       "  <thead>\n",
       "    <tr style=\"text-align: right;\">\n",
       "      <th></th>\n",
       "      <th>X</th>\n",
       "      <th>Y</th>\n",
       "      <th>MODIS LSAT (Reference)</th>\n",
       "      <th>L8 LSAT Estimates</th>\n",
       "    </tr>\n",
       "    <tr>\n",
       "      <th>FID</th>\n",
       "      <th></th>\n",
       "      <th></th>\n",
       "      <th></th>\n",
       "      <th></th>\n",
       "    </tr>\n",
       "  </thead>\n",
       "  <tbody>\n",
       "    <tr>\n",
       "      <th>0</th>\n",
       "      <td>34.6883</td>\n",
       "      <td>-0.13600</td>\n",
       "      <td>30.826229</td>\n",
       "      <td>28.672397</td>\n",
       "    </tr>\n",
       "    <tr>\n",
       "      <th>1</th>\n",
       "      <td>34.8431</td>\n",
       "      <td>-0.28705</td>\n",
       "      <td>32.192482</td>\n",
       "      <td>27.782982</td>\n",
       "    </tr>\n",
       "    <tr>\n",
       "      <th>2</th>\n",
       "      <td>34.6333</td>\n",
       "      <td>-0.33787</td>\n",
       "      <td>28.771219</td>\n",
       "      <td>24.716781</td>\n",
       "    </tr>\n",
       "  </tbody>\n",
       "</table>\n",
       "</div>"
      ],
      "text/plain": [
       "           X        Y  MODIS LSAT (Reference)  L8 LSAT Estimates\n",
       "FID                                                             \n",
       "0    34.6883 -0.13600               30.826229          28.672397\n",
       "1    34.8431 -0.28705               32.192482          27.782982\n",
       "2    34.6333 -0.33787               28.771219          24.716781"
      ]
     },
     "execution_count": 490,
     "metadata": {},
     "output_type": "execute_result"
    }
   ],
   "source": [
    "data = pd.read_csv('D:/STUDY/4.GIS/G I S 4.2/0.Project/ModelsAlgorithmsCodes/6.Accurcay Assesment/LSAT/Correlation2015LSAT.csv', index_col = 0)\n",
    "data.shape\n",
    "data.dropna(inplace = True)\n",
    "data.head(3)"
   ]
  },
  {
   "cell_type": "code",
   "execution_count": 491,
   "metadata": {},
   "outputs": [
    {
     "data": {
      "text/html": [
       "<div>\n",
       "<style scoped>\n",
       "    .dataframe tbody tr th:only-of-type {\n",
       "        vertical-align: middle;\n",
       "    }\n",
       "\n",
       "    .dataframe tbody tr th {\n",
       "        vertical-align: top;\n",
       "    }\n",
       "\n",
       "    .dataframe thead th {\n",
       "        text-align: right;\n",
       "    }\n",
       "</style>\n",
       "<table border=\"1\" class=\"dataframe\">\n",
       "  <thead>\n",
       "    <tr style=\"text-align: right;\">\n",
       "      <th></th>\n",
       "      <th>X</th>\n",
       "      <th>Y</th>\n",
       "      <th>MODIS LSAT (Reference)</th>\n",
       "      <th>L8 LSAT Estimates</th>\n",
       "    </tr>\n",
       "  </thead>\n",
       "  <tbody>\n",
       "    <tr>\n",
       "      <th>X</th>\n",
       "      <td>1.000000</td>\n",
       "      <td>0.074679</td>\n",
       "      <td>-0.037733</td>\n",
       "      <td>-0.019475</td>\n",
       "    </tr>\n",
       "    <tr>\n",
       "      <th>Y</th>\n",
       "      <td>0.074679</td>\n",
       "      <td>1.000000</td>\n",
       "      <td>-0.017687</td>\n",
       "      <td>0.099692</td>\n",
       "    </tr>\n",
       "    <tr>\n",
       "      <th>MODIS LSAT (Reference)</th>\n",
       "      <td>-0.037733</td>\n",
       "      <td>-0.017687</td>\n",
       "      <td>1.000000</td>\n",
       "      <td>0.513448</td>\n",
       "    </tr>\n",
       "    <tr>\n",
       "      <th>L8 LSAT Estimates</th>\n",
       "      <td>-0.019475</td>\n",
       "      <td>0.099692</td>\n",
       "      <td>0.513448</td>\n",
       "      <td>1.000000</td>\n",
       "    </tr>\n",
       "  </tbody>\n",
       "</table>\n",
       "</div>"
      ],
      "text/plain": [
       "                               X         Y  MODIS LSAT (Reference)  \\\n",
       "X                       1.000000  0.074679               -0.037733   \n",
       "Y                       0.074679  1.000000               -0.017687   \n",
       "MODIS LSAT (Reference) -0.037733 -0.017687                1.000000   \n",
       "L8 LSAT Estimates      -0.019475  0.099692                0.513448   \n",
       "\n",
       "                        L8 LSAT Estimates  \n",
       "X                               -0.019475  \n",
       "Y                                0.099692  \n",
       "MODIS LSAT (Reference)           0.513448  \n",
       "L8 LSAT Estimates                1.000000  "
      ]
     },
     "execution_count": 491,
     "metadata": {},
     "output_type": "execute_result"
    }
   ],
   "source": [
    "# Correlation Co-efficient\n",
    "data.corr()"
   ]
  },
  {
   "cell_type": "code",
   "execution_count": 492,
   "metadata": {},
   "outputs": [
    {
     "data": {
      "image/png": "[encoded data removed]",
      "text/plain": [
       "<Figure size 432x288 with 1 Axes>"
      ]
     },
     "metadata": {},
     "output_type": "display_data"
    }
   ],
   "source": [
    "data.plot(kind='scatter', x = \"L8 LSAT Estimates\", y=\"MODIS LSAT (Reference)\")\n",
    "plt.show()"
   ]
  },
  {
   "cell_type": "code",
   "execution_count": 493,
   "metadata": {},
   "outputs": [],
   "source": [
    "\n",
    "# change to df\n",
    "estimates = pd.DataFrame(data[\"MODIS LSAT (Reference)\"])\n",
    "reference = pd.DataFrame(data[\"L8 LSAT Estimates\"])"
   ]
  },
  {
   "cell_type": "code",
   "execution_count": 494,
   "metadata": {},
   "outputs": [],
   "source": [
    "#Build linear model\n",
    "lm = linear_model.LinearRegression()\n",
    "model = lm.fit(estimates, reference)"
   ]
  },
  {
   "cell_type": "code",
   "execution_count": 495,
   "metadata": {},
   "outputs": [
    {
     "data": {
      "text/plain": [
       "array([[0.50829391]])"
      ]
     },
     "execution_count": 495,
     "metadata": {},
     "output_type": "execute_result"
    }
   ],
   "source": [
    "model.coef_"
   ]
  },
  {
   "cell_type": "code",
   "execution_count": 496,
   "metadata": {},
   "outputs": [
    {
     "data": {
      "text/plain": [
       "array([12.51994944])"
      ]
     },
     "execution_count": 496,
     "metadata": {},
     "output_type": "execute_result"
    }
   ],
   "source": [
    "model.intercept_"
   ]
  },
  {
   "cell_type": "code",
   "execution_count": 497,
   "metadata": {},
   "outputs": [
    {
     "data": {
      "text/plain": [
       "0.26362913933973287"
      ]
     },
     "execution_count": 497,
     "metadata": {},
     "output_type": "execute_result"
    }
   ],
   "source": [
    "# Model Evaluation\n",
    "model.score(estimates, reference)"
   ]
  },
  {
   "cell_type": "code",
   "execution_count": 498,
   "metadata": {},
   "outputs": [
    {
     "name": "stderr",
     "output_type": "stream",
     "text": [
      "C:\\Users\\okomo\\AppData\\Roaming\\Python\\Python39\\site-packages\\sklearn\\base.py:441: UserWarning: X does not have valid feature names, but LinearRegression was fitted with feature names\n",
      "  warnings.warn(\n"
     ]
    },
    {
     "data": {
      "text/plain": [
       "array([[25.73559122]])"
      ]
     },
     "execution_count": 498,
     "metadata": {},
     "output_type": "execute_result"
    }
   ],
   "source": [
    "# Predict new value of price\n",
    "estimatesNew = 26\n",
    "estimatesNew = np.array(estimatesNew).reshape(1, -1)\n",
    "estimatesPred = model.predict(estimatesNew)\n",
    "estimatesPred"
   ]
  },
  {
   "cell_type": "code",
   "execution_count": 499,
   "metadata": {},
   "outputs": [
    {
     "name": "stderr",
     "output_type": "stream",
     "text": [
      "C:\\Users\\okomo\\AppData\\Roaming\\Python\\Python39\\site-packages\\sklearn\\base.py:441: UserWarning: X does not have valid feature names, but LinearRegression was fitted with feature names\n",
      "  warnings.warn(\n"
     ]
    },
    {
     "data": {
      "text/html": [
       "<div>\n",
       "<style scoped>\n",
       "    .dataframe tbody tr th:only-of-type {\n",
       "        vertical-align: middle;\n",
       "    }\n",
       "\n",
       "    .dataframe tbody tr th {\n",
       "        vertical-align: top;\n",
       "    }\n",
       "\n",
       "    .dataframe thead tr th {\n",
       "        text-align: left;\n",
       "    }\n",
       "</style>\n",
       "<table border=\"1\" class=\"dataframe\">\n",
       "  <thead>\n",
       "    <tr>\n",
       "      <th></th>\n",
       "      <th>estimatesNew</th>\n",
       "      <th>estimatesPred</th>\n",
       "    </tr>\n",
       "    <tr>\n",
       "      <th></th>\n",
       "      <th>0</th>\n",
       "      <th>0</th>\n",
       "    </tr>\n",
       "  </thead>\n",
       "  <tbody>\n",
       "    <tr>\n",
       "      <th>0</th>\n",
       "      <td>31.42412</td>\n",
       "      <td>28.492638</td>\n",
       "    </tr>\n",
       "    <tr>\n",
       "      <th>1</th>\n",
       "      <td>28.30000</td>\n",
       "      <td>26.904667</td>\n",
       "    </tr>\n",
       "  </tbody>\n",
       "</table>\n",
       "</div>"
      ],
      "text/plain": [
       "  estimatesNew estimatesPred\n",
       "             0             0\n",
       "0     31.42412     28.492638\n",
       "1     28.30000     26.904667"
      ]
     },
     "execution_count": 499,
     "metadata": {},
     "output_type": "execute_result"
    }
   ],
   "source": [
    "# Predict more values\n",
    "X = ([31.4241199, 28.3])\n",
    "X = pd.DataFrame(X)\n",
    "Y = model.predict(X)\n",
    "Y = pd.DataFrame(Y)\n",
    "df = pd.concat([X, Y], axis = 1, keys = ['estimatesNew', 'estimatesPred'])\n",
    "df"
   ]
  },
  {
   "cell_type": "code",
   "execution_count": 500,
   "metadata": {},
   "outputs": [
    {
     "data": {
      "image/png": "[encoded data removed]",
      "text/plain": [
       "<Figure size 432x288 with 1 Axes>"
      ]
     },
     "metadata": {},
     "output_type": "display_data"
    }
   ],
   "source": [
    "# Visualize the results\n",
    "\n",
    "#data.plot(kind = \"scatter\", x = 'L8 Chl-a Estimates', y = \"S3 OLCI Chl-a (Reference)\")\n",
    "data.plot(kind = \"scatter\", x = 'L8 LSAT Estimates', y = \"MODIS LSAT (Reference)\")\n",
    "# Regression line\n",
    "plt.plot(estimates, model.predict(estimates), color = \"red\", linewidth = 2)\n",
    "#plt.legend(loc='best',fancybox=True, framealpha=1, shadow=True, borderpad=1)\n",
    "plt.title(\"CORRELATION BTWN ESTIMATED LSAT AND REFRENCE LSAT FOR 2015\")\n",
    "plt.show()"
   ]
  },
  {
   "cell_type": "markdown",
   "metadata": {},
   "source": []
  }
 ],
 "metadata": {
  "interpreter": {
   "hash": "ac59ebe37160ed0dfa835113d9b8498d9f09ceb179beaac4002f036b9467c963"
  },
  "kernelspec": {
   "display_name": "Python 3.9.7 64-bit",
   "name": "python3"
  },
  "language_info": {
   "codemirror_mode": {
    "name": "ipython",
    "version": 3
   },
   "file_extension": ".py",
   "mimetype": "text/x-python",
   "name": "python",
   "nbconvert_exporter": "python",
   "pygments_lexer": "ipython3",
   "version": "3.9.7"
  },
  "orig_nbformat": 4
 },
 "nbformat": 4,
 "nbformat_minor": 2
}
