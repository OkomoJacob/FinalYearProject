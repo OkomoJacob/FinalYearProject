{
 "cells": [
  {
   "cell_type": "markdown",
   "source": [
    "# Simple steps and procedures followed in the implementation of accuracy assessment\n",
    "* 1. import libraries, \n",
    "* 2. import the dataset, \n",
    "* 3. view the dataset, \n",
    "* 4. Do a pairplot of the dataset  \n",
    "* 5. Extract the output variable into y \n",
    "* 6. Examine y \n",
    "* 7. Import the library for splitting \n",
    "* 8. View the reg Co efficient of correlation"
   ],
   "metadata": {}
  },
  {
   "cell_type": "code",
   "execution_count": 34,
   "source": [
    "from matplotlib import pyplot as plt\r\n",
    "import seaborn as sns\r\n",
    "#@Telling the matplotlib to plot a line within this notebook\r\n",
    "%matplotlib inline \r\n",
    "import pandas as pd\r\n",
    "from pandas import*"
   ],
   "outputs": [],
   "metadata": {}
  },
  {
   "cell_type": "code",
   "execution_count": 49,
   "source": [
    "data = pd.read_csv('D:/STUDY/4.GIS/G I S 4.2/0.Project/ModelsAlgorithmsCodes/6.Accurcay Assesment/Correlation2015.csv', index_col = 0) #To removee the unnamed part"
   ],
   "outputs": [],
   "metadata": {}
  },
  {
   "cell_type": "code",
   "execution_count": 23,
   "source": [
    "data.head(5)"
   ],
   "outputs": [
    {
     "output_type": "execute_result",
     "data": {
      "text/html": [
       "<div>\n",
       "<style scoped>\n",
       "    .dataframe tbody tr th:only-of-type {\n",
       "        vertical-align: middle;\n",
       "    }\n",
       "\n",
       "    .dataframe tbody tr th {\n",
       "        vertical-align: top;\n",
       "    }\n",
       "\n",
       "    .dataframe thead th {\n",
       "        text-align: right;\n",
       "    }\n",
       "</style>\n",
       "<table border=\"1\" class=\"dataframe\">\n",
       "  <thead>\n",
       "    <tr style=\"text-align: right;\">\n",
       "      <th></th>\n",
       "      <th>X</th>\n",
       "      <th>Y</th>\n",
       "      <th>S3 OLCI Chl-a (Reference)</th>\n",
       "      <th>L8 Chl-a Estimates</th>\n",
       "    </tr>\n",
       "    <tr>\n",
       "      <th>4</th>\n",
       "      <th></th>\n",
       "      <th></th>\n",
       "      <th></th>\n",
       "      <th></th>\n",
       "    </tr>\n",
       "  </thead>\n",
       "  <tbody>\n",
       "    <tr>\n",
       "      <th>7/1/2015</th>\n",
       "      <td>34.6883</td>\n",
       "      <td>-0.13600</td>\n",
       "      <td>25.826229</td>\n",
       "      <td>28.672397</td>\n",
       "    </tr>\n",
       "    <tr>\n",
       "      <th>NaN</th>\n",
       "      <td>34.8431</td>\n",
       "      <td>-0.28705</td>\n",
       "      <td>32.192482</td>\n",
       "      <td>27.782982</td>\n",
       "    </tr>\n",
       "    <tr>\n",
       "      <th>NaN</th>\n",
       "      <td>34.6333</td>\n",
       "      <td>-0.33787</td>\n",
       "      <td>20.771219</td>\n",
       "      <td>11.716781</td>\n",
       "    </tr>\n",
       "    <tr>\n",
       "      <th>NaN</th>\n",
       "      <td>34.1963</td>\n",
       "      <td>-0.32962</td>\n",
       "      <td>27.068468</td>\n",
       "      <td>22.068468</td>\n",
       "    </tr>\n",
       "    <tr>\n",
       "      <th>NaN</th>\n",
       "      <td>34.4450</td>\n",
       "      <td>-0.51776</td>\n",
       "      <td>30.188889</td>\n",
       "      <td>24.798715</td>\n",
       "    </tr>\n",
       "  </tbody>\n",
       "</table>\n",
       "</div>"
      ],
      "text/plain": [
       "                X        Y  S3 OLCI Chl-a (Reference)  L8 Chl-a Estimates\n",
       "4                                                                        \n",
       "7/1/2015  34.6883 -0.13600                  25.826229           28.672397\n",
       "NaN       34.8431 -0.28705                  32.192482           27.782982\n",
       "NaN       34.6333 -0.33787                  20.771219           11.716781\n",
       "NaN       34.1963 -0.32962                  27.068468           22.068468\n",
       "NaN       34.4450 -0.51776                  30.188889           24.798715"
      ]
     },
     "metadata": {},
     "execution_count": 23
    }
   ],
   "metadata": {}
  },
  {
   "cell_type": "code",
   "execution_count": 51,
   "source": [
    "data.plot(kind = 'scatter', x = ['L8 Chl-a Estimates'], y = 'S3 OLCI Chl-a (Reference)')\r\n",
    "plt.title(\"Correlation: S3 OLCI Chl-a and L8 Estimates 2015\")"
   ],
   "outputs": [
    {
     "output_type": "execute_result",
     "data": {
      "text/plain": [
       "Text(0.5, 1.0, 'Correlation: S3 OLCI Chl-a and L8 Estimates 2015')"
      ]
     },
     "metadata": {},
     "execution_count": 51
    },
    {
     "output_type": "display_data",
     "data": {
      "image/png": "[encoded data removed]",
      "text/plain": [
       "<Figure size 432x288 with 1 Axes>"
      ]
     },
     "metadata": {
      "needs_background": "light"
     }
    }
   ],
   "metadata": {}
  },
  {
   "cell_type": "markdown",
   "source": [
    "## Pearson Correlation co-efficient (R)"
   ],
   "metadata": {}
  },
  {
   "cell_type": "code",
   "execution_count": 20,
   "source": [
    "corrDf = data[[\"S3 OLCI Chl-a (Reference)\", \"L8 Chl-a Estimates\"]]\r\n",
    "corrDf.corr()"
   ],
   "outputs": [
    {
     "output_type": "execute_result",
     "data": {
      "text/html": [
       "<div>\n",
       "<style scoped>\n",
       "    .dataframe tbody tr th:only-of-type {\n",
       "        vertical-align: middle;\n",
       "    }\n",
       "\n",
       "    .dataframe tbody tr th {\n",
       "        vertical-align: top;\n",
       "    }\n",
       "\n",
       "    .dataframe thead th {\n",
       "        text-align: right;\n",
       "    }\n",
       "</style>\n",
       "<table border=\"1\" class=\"dataframe\">\n",
       "  <thead>\n",
       "    <tr style=\"text-align: right;\">\n",
       "      <th></th>\n",
       "      <th>S3 OLCI Chl-a (Reference)</th>\n",
       "      <th>L8 Chl-a Estimates</th>\n",
       "    </tr>\n",
       "  </thead>\n",
       "  <tbody>\n",
       "    <tr>\n",
       "      <th>S3 OLCI Chl-a (Reference)</th>\n",
       "      <td>1.000000</td>\n",
       "      <td>0.847751</td>\n",
       "    </tr>\n",
       "    <tr>\n",
       "      <th>L8 Chl-a Estimates</th>\n",
       "      <td>0.847751</td>\n",
       "      <td>1.000000</td>\n",
       "    </tr>\n",
       "  </tbody>\n",
       "</table>\n",
       "</div>"
      ],
      "text/plain": [
       "                           S3 OLCI Chl-a (Reference)  L8 Chl-a Estimates\n",
       "S3 OLCI Chl-a (Reference)                   1.000000            0.847751\n",
       "L8 Chl-a Estimates                          0.847751            1.000000"
      ]
     },
     "metadata": {},
     "execution_count": 20
    }
   ],
   "metadata": {}
  }
 ],
 "metadata": {
  "kernelspec": {
   "name": "python3",
   "display_name": "Python 3.9.7 64-bit"
  },
  "language_info": {
   "codemirror_mode": {
    "name": "ipython",
    "version": 3
   },
   "file_extension": ".py",
   "mimetype": "text/x-python",
   "name": "python",
   "nbconvert_exporter": "python",
   "pygments_lexer": "ipython3",
   "version": "3.9.7"
  },
  "interpreter": {
   "hash": "ac59ebe37160ed0dfa835113d9b8498d9f09ceb179beaac4002f036b9467c963"
  }
 },
 "nbformat": 4,
 "nbformat_minor": 2
}